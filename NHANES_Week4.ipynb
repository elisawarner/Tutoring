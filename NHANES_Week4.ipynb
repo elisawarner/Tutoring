{
 "cells": [
  {
   "cell_type": "markdown",
   "metadata": {},
   "source": [
    "# NHANES Analysis"
   ]
  },
  {
   "cell_type": "markdown",
   "metadata": {},
   "source": [
    "NHANES Data can be viewed on https://wwwn.cdc.gov/nchs/nhanes/default.aspx"
   ]
  },
  {
   "cell_type": "markdown",
   "metadata": {},
   "source": [
    "Check compatibility cheat"
   ]
  },
  {
   "cell_type": "code",
   "execution_count": null,
   "metadata": {},
   "outputs": [],
   "source": [
    "x = !pip freeze | grep \"pandas\"\n",
    "print(x[0])\n",
    "#if above output reads 1.1.0\n",
    "if '0.24.2' not in x[0]:\n",
    "    !python -m pip install --upgrade pandas==0.24.2"
   ]
  },
  {
   "cell_type": "markdown",
   "metadata": {},
   "source": [
    "Import statements"
   ]
  },
  {
   "cell_type": "code",
   "execution_count": null,
   "metadata": {},
   "outputs": [],
   "source": [
    "import pandas as pd\n",
    "import numpy as np\n",
    "import xport.v56\n",
    "import io\n",
    "import matplotlib.pyplot as plt\n",
    "import seaborn as sns\n",
    "from bs4 import BeautifulSoup\n",
    "from pandas.compat import StringIO"
   ]
  },
  {
   "cell_type": "markdown",
   "metadata": {},
   "source": [
    "Needed Functions"
   ]
  },
  {
   "cell_type": "code",
   "execution_count": null,
   "metadata": {},
   "outputs": [],
   "source": [
    "# Pull out headers\n",
    "def headers(htmfile):\n",
    "    fhnd = open(htmfile)\n",
    "    soup = BeautifulSoup(fhnd, 'html.parser')\n",
    "    x = soup.find_all('h3')\n",
    "\n",
    "    headers = []\n",
    "    for idx in range(len(x)):\n",
    "        try:\n",
    "            headers.append(x[idx]['id'])\n",
    "        except:\n",
    "            continue\n",
    "    return headers"
   ]
  },
  {
   "cell_type": "code",
   "execution_count": null,
   "metadata": {},
   "outputs": [],
   "source": [
    "# convert XPT to Python-Readable format\n",
    "def extract_from_rows(library):\n",
    "    ds = next(iter(library.values()))\n",
    "    rows = list(ds.itertuples(index=None, name=None))\n",
    "    fp = io.BytesIO()\n",
    "\n",
    "    xport.from_rows(rows, fp)\n",
    "    fp.seek(0)\n",
    "    x = next(iter(xport.v56.load(fp).values()))\n",
    "    return x"
   ]
  },
  {
   "cell_type": "markdown",
   "metadata": {},
   "source": [
    "## Work Below"
   ]
  },
  {
   "cell_type": "code",
   "execution_count": null,
   "metadata": {},
   "outputs": [],
   "source": [
    "!pwd"
   ]
  },
  {
   "cell_type": "code",
   "execution_count": null,
   "metadata": {},
   "outputs": [],
   "source": [
    "# extract headers from file\n",
    "colfilename = ?\n",
    "names = headers(colfilename)"
   ]
  },
  {
   "cell_type": "code",
   "execution_count": null,
   "metadata": {},
   "outputs": [],
   "source": [
    "# extract data\n",
    "filename = ?\n",
    "\n",
    "with open(filename, 'rb') as f:\n",
    "    library = xport.v56.load(f)\n",
    "    x = extract_from_rows(library)"
   ]
  },
  {
   "cell_type": "code",
   "execution_count": null,
   "metadata": {},
   "outputs": [],
   "source": [
    "# convert to DataFrame\n",
    "df = pd.DataFrame(x)\n",
    "df.head()\n",
    "df.columns = names"
   ]
  },
  {
   "cell_type": "code",
   "execution_count": null,
   "metadata": {},
   "outputs": [],
   "source": [
    "# view DataFrame\n",
    "df.tail()"
   ]
  },
  {
   "cell_type": "markdown",
   "metadata": {},
   "source": [
    "### Print the mean age, separated by gender"
   ]
  },
  {
   "cell_type": "code",
   "execution_count": null,
   "metadata": {},
   "outputs": [],
   "source": [
    "print(\"Average age of females:\", df[df['RIAGENDR'] == 1]['RIDAGEYR'].mean())\n",
    "print(\"Average age of males:\", df[df['RIAGENDR'] == 2]['RIDAGEYR'].mean())"
   ]
  },
  {
   "cell_type": "markdown",
   "metadata": {},
   "source": [
    "### Graph the distribution of weight, separated by gender."
   ]
  },
  {
   "cell_type": "code",
   "execution_count": null,
   "metadata": {},
   "outputs": [],
   "source": []
  },
  {
   "cell_type": "code",
   "execution_count": null,
   "metadata": {},
   "outputs": [],
   "source": [
    "plt.title('Distribution of Weight for Males and Females')\n",
    "plt.xlabel('ages')\n",
    "plt.ylabel('frequency')\n",
    "plt.legend(['females','males'])\n",
    "\n",
    "plt.show()"
   ]
  },
  {
   "cell_type": "markdown",
   "metadata": {},
   "source": [
    "### Plot Again with Adjustments"
   ]
  },
  {
   "cell_type": "code",
   "execution_count": null,
   "metadata": {},
   "outputs": [],
   "source": []
  },
  {
   "cell_type": "markdown",
   "metadata": {},
   "source": [
    "### Create a bar graph of mean age of patients based on income"
   ]
  },
  {
   "cell_type": "code",
   "execution_count": null,
   "metadata": {},
   "outputs": [],
   "source": []
  },
  {
   "cell_type": "markdown",
   "metadata": {},
   "source": [
    "### Download the blood pressure dataset and graph the distribution of blood pressure by sex"
   ]
  },
  {
   "cell_type": "code",
   "execution_count": null,
   "metadata": {},
   "outputs": [],
   "source": [
    "First, import the BPX dataset"
   ]
  },
  {
   "cell_type": "code",
   "execution_count": null,
   "metadata": {},
   "outputs": [],
   "source": [
    "# extract headers from file\n",
    "colfilename = ?\n",
    "names = headers(colfilename)"
   ]
  },
  {
   "cell_type": "code",
   "execution_count": null,
   "metadata": {},
   "outputs": [],
   "source": [
    "# extract data\n",
    "filename = ?\n",
    "\n",
    "with open(filename, 'rb') as f:\n",
    "    library = xport.v56.load(f)\n",
    "    x = extract_from_rows(library)"
   ]
  },
  {
   "cell_type": "code",
   "execution_count": null,
   "metadata": {},
   "outputs": [],
   "source": [
    "# convert to DataFrame\n",
    "df2 = pd.DataFrame(x)\n",
    "df2.head()\n",
    "df2.columns = names"
   ]
  },
  {
   "cell_type": "code",
   "execution_count": null,
   "metadata": {},
   "outputs": [],
   "source": [
    "# merge here"
   ]
  },
  {
   "cell_type": "code",
   "execution_count": null,
   "metadata": {},
   "outputs": [],
   "source": [
    "# plot distribution here"
   ]
  },
  {
   "cell_type": "code",
   "execution_count": null,
   "metadata": {},
   "outputs": [],
   "source": [
    "plt.title('Distribution of Systolic Blood Pressure for Males and Females')\n",
    "plt.xlabel('systolic blood pressure')\n",
    "plt.ylabel('frequency')\n",
    "plt.legend(['females','males'])\n",
    "\n",
    "plt.show()"
   ]
  },
  {
   "cell_type": "markdown",
   "metadata": {},
   "source": [
    "### Download the smoking dataset and graph the distribution of blood pressure by smokers"
   ]
  },
  {
   "cell_type": "code",
   "execution_count": null,
   "metadata": {},
   "outputs": [],
   "source": []
  },
  {
   "cell_type": "markdown",
   "metadata": {},
   "source": [
    "### Test if there is a significant difference in blood pressure between smokers and non-smokers"
   ]
  },
  {
   "cell_type": "code",
   "execution_count": null,
   "metadata": {},
   "outputs": [],
   "source": []
  },
  {
   "cell_type": "markdown",
   "metadata": {},
   "source": [
    "## Homework"
   ]
  },
  {
   "cell_type": "markdown",
   "metadata": {},
   "source": [
    "First, download some lab values and examination tests and merge with your dataframe. Remember to Merge on SEQN"
   ]
  },
  {
   "cell_type": "markdown",
   "metadata": {},
   "source": [
    "The first thing we need to do when we look at a dataset is to visualize what kind of data we have.\n",
    "Create at least 7 graphs to visualize the data available. Make sure to add titles to the graphs and label the axes."
   ]
  },
  {
   "cell_type": "code",
   "execution_count": null,
   "metadata": {},
   "outputs": [],
   "source": []
  },
  {
   "cell_type": "markdown",
   "metadata": {},
   "source": [
    "Another popular analysis is to see how our variables correlate with each other. This can be for quality control checks or just simply to understand our data. Calculate the correlation between age and things like salary"
   ]
  },
  {
   "cell_type": "code",
   "execution_count": null,
   "metadata": {},
   "outputs": [],
   "source": []
  },
  {
   "cell_type": "markdown",
   "metadata": {},
   "source": [
    "There is a lot of missingess in the data because some patients do not get certain tests done or do not answer certain survey questions. We want to make sure that there is no bias based on missingness -- that is, that the distribution of patients who answer the question does not differ from those who do not answer the question."
   ]
  },
  {
   "cell_type": "markdown",
   "metadata": {},
   "source": [
    "Take the Income question on the demographic questionnaire. Code all \"Refused\", \"Don't Know\", and \"Missing\" as \"Missing\" in this situation. Then compare the distribution of ages between the Missing group and the Non-Missing group. Run a T-test to make sure the mean age of the Missing and Non-Missing group is insignificant."
   ]
  },
  {
   "cell_type": "code",
   "execution_count": null,
   "metadata": {},
   "outputs": [],
   "source": []
  },
  {
   "cell_type": "markdown",
   "metadata": {},
   "source": [
    "Now, look for missingness in another variable. Do the same thing as above and compare the distribution of ages between the Missing and Non-Missing groups. Run a T-test to make sure the mean age of the Missing and Non-Missing groups is insignificant."
   ]
  },
  {
   "cell_type": "code",
   "execution_count": null,
   "metadata": {},
   "outputs": [],
   "source": []
  }
 ],
 "metadata": {
  "kernelspec": {
   "display_name": "Python 3",
   "language": "python",
   "name": "python3"
  },
  "language_info": {
   "codemirror_mode": {
    "name": "ipython",
    "version": 3
   },
   "file_extension": ".py",
   "mimetype": "text/x-python",
   "name": "python",
   "nbconvert_exporter": "python",
   "pygments_lexer": "ipython3",
   "version": "3.7.4"
  }
 },
 "nbformat": 4,
 "nbformat_minor": 4
}
